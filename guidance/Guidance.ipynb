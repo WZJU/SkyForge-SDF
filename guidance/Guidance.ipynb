{
 "cells": [
  {
   "cell_type": "markdown",
   "id": "9e2fa0fe",
   "metadata": {},
   "source": [
    "Guidance for SDF tool.\n",
    "Zhe Wen\n",
    "11/8/2025"
   ]
  },
  {
   "cell_type": "code",
   "execution_count": 1,
   "id": "ea6b3984",
   "metadata": {},
   "outputs": [],
   "source": [
    "from obj2SDF import *"
   ]
  },
  {
   "cell_type": "markdown",
   "id": "6f2e3960",
   "metadata": {},
   "source": [
    "For every object models, we want it to be watertight, so manifold library is included.\n",
    "FYI:https://github.com/hjwdzh/Manifold"
   ]
  },
  {
   "cell_type": "code",
   "execution_count": 3,
   "id": "e90b5b99",
   "metadata": {},
   "outputs": [],
   "source": [
    "'''\n",
    "Instantiate manifold class\n",
    "The path should be the directory where the manifold and simplify executable file stored.\n",
    "'''\n",
    "manifold = Manifold(\".\\\\\")"
   ]
  },
  {
   "cell_type": "code",
   "execution_count": 4,
   "id": "06724cfd",
   "metadata": {},
   "outputs": [
    {
     "name": "stdout",
     "output_type": "stream",
     "text": [
      "转换成功: VspAircraft.stl → VspAircraft.obj\n",
      "转换成功: VspAircraft.stl → VspAircraft.obj\n"
     ]
    }
   ],
   "source": [
    "'''\n",
    "For evety models, we want it to be watertight.\n",
    "Make the model watertight, execute .get_manifold() method.\n",
    "Make the model watertight and simplified, execute .get_simplifiy() method.\n",
    "'''\n",
    "path_to_model = \".\\\\VspAircraft.stl\"\n",
    "manifold.get_manifold(path_to_model, resolution=100000)\n",
    "manifold.get_simplifiy(path_to_model, output_path=None)#defult output path is the same as input path. Name of the output file will be 'simplified.obj'."
   ]
  },
  {
   "cell_type": "code",
   "execution_count": 2,
   "id": "4bcc1fc7",
   "metadata": {},
   "outputs": [],
   "source": [
    "'''\n",
    "Compute SDF for the model. Execute compute_sdf_from_single_object() method.\n",
    "points: sampled points, (N,3)\n",
    "sdf_values: (N,) \n",
    "'''\n",
    "path_to_manifold_model = './simplified.obj'\n",
    "points, sdf_values = compute_sdf_from_single_object(path_to_manifold_model, num_points=100000)\n"
   ]
  },
  {
   "cell_type": "code",
   "execution_count": 5,
   "id": "2d4f3fec",
   "metadata": {},
   "outputs": [
    {
     "name": "stdout",
     "output_type": "stream",
     "text": [
      "(127000, 3) (127000,)\n"
     ]
    }
   ],
   "source": [
    "print(points.shape, sdf_values.shape)"
   ]
  },
  {
   "cell_type": "code",
   "execution_count": 6,
   "id": "7fb9ff10",
   "metadata": {},
   "outputs": [],
   "source": [
    "'''\n",
    "json file editor\n",
    "'''\n",
    "path_to_json = './taxonomy.json'\n",
    "tax = taxonomy_editor(path_to_json) # A taxonomy file will be loaded. If the file do not exist, a file will be created\n",
    "\n",
    "# Create a key for a new object\n",
    "name = 'Object 01'\n",
    "tax.add_object(name)\n",
    "\n",
    "# Add CFD files and data to the key\n",
    "tax.add_CFD(name,\n",
    "             model_file_path= 'model_file_path',\n",
    "             mesh_file_path= 'mesh_file_path', \n",
    "             proj_file_path= 'proj_file_path', \n",
    "             case_list= ['case1.plt', 'case2.plt', 'case3.plt'], \n",
    "             Mach_list= [0.75, 0.8, 0.85], \n",
    "             AOA_list= [1, 3, 5], \n",
    "             cl_list= [0.1, 0.5, 0.9], \n",
    "             cd_list= [0.05, 0.058, 0.06], \n",
    "             cm_list= [0.01, 0.05, 0.06])"
   ]
  }
 ],
 "metadata": {
  "kernelspec": {
   "display_name": "Python 3",
   "language": "python",
   "name": "python3"
  },
  "language_info": {
   "codemirror_mode": {
    "name": "ipython",
    "version": 3
   },
   "file_extension": ".py",
   "mimetype": "text/x-python",
   "name": "python",
   "nbconvert_exporter": "python",
   "pygments_lexer": "ipython3",
   "version": "3.12.1"
  }
 },
 "nbformat": 4,
 "nbformat_minor": 5
}
